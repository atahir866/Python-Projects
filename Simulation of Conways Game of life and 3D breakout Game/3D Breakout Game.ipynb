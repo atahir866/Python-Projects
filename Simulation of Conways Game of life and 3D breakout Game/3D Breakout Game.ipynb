{
 "cells": [
  {
   "cell_type": "code",
   "execution_count": 1,
   "metadata": {
    "collapsed": true
   },
   "outputs": [],
   "source": [
    "# importing libraries in order to use its functions like numpy, pandas, matplotlib\n",
    "\n",
    "import numpy as np\n",
    "import pandas as pd\n",
    "import matplotlib as mpl\n",
    "mpl.use('Agg')\n",
    "import matplotlib.pyplot as plt\n",
    "%matplotlib inline\n",
    "import matplotlib.patches as mpatches\n",
    "import matplotlib.mlab as mlab"
   ]
  },
  {
   "cell_type": "markdown",
   "metadata": {},
   "source": [
    "## This function takes the size of the structure plus mean and standard deviation. It then produces a normal distribution based on mean and standard deviation. The number of hits that each block needs requires is determined by that normal distribution. So, it inserts random values from that normal distribution to the array of size(x,y,z) which is passed as an argument in this function."
   ]
  },
  {
   "cell_type": "code",
   "execution_count": 2,
   "metadata": {
    "collapsed": true
   },
   "outputs": [],
   "source": [
    "# Defining a function which takes size of an array i.e (x,y,z) plus mean and standard deviation.\n",
    "def blockmodel(x,y,z,mu,sigma):\n",
    "    \n",
    "    #generating normal distribution from mean and standard deviation.\n",
    "    #Also, then inserting random numbers from that distribution into array of size (x,y,z)\n",
    "    a=np.random.normal(mu, sigma, (x,y,z))\n",
    "    \n",
    "    #converting the values in the array to int because hits that each block takes can't be floats. \n",
    "    #and then returning the array.\n",
    "    return a.astype(int)"
   ]
  },
  {
   "cell_type": "code",
   "execution_count": 3,
   "metadata": {},
   "outputs": [
    {
     "name": "stdout",
     "output_type": "stream",
     "text": [
      "[[[5 4 4 5]\n",
      "  [5 4 5 5]\n",
      "  [5 5 5 4]]\n",
      "\n",
      " [[4 4 4 3]\n",
      "  [4 5 4 5]\n",
      "  [4 4 5 5]]]\n",
      "(2, 3, 4)\n"
     ]
    }
   ],
   "source": [
    "sample=blockmodel(2,3,4,5,0.5)\n",
    "print(sample)\n",
    "print(sample.shape)"
   ]
  },
  {
   "cell_type": "code",
   "execution_count": null,
   "metadata": {
    "collapsed": true
   },
   "outputs": [],
   "source": []
  }
 ],
 "metadata": {
  "kernelspec": {
   "display_name": "Python 3",
   "language": "python",
   "name": "python3"
  },
  "language_info": {
   "codemirror_mode": {
    "name": "ipython",
    "version": 3
   },
   "file_extension": ".py",
   "mimetype": "text/x-python",
   "name": "python",
   "nbconvert_exporter": "python",
   "pygments_lexer": "ipython3",
   "version": "3.6.2"
  }
 },
 "nbformat": 4,
 "nbformat_minor": 2
}
